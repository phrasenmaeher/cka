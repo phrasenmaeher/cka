{
  "nbformat": 4,
  "nbformat_minor": 0,
  "metadata": {
    "colab": {
      "name": "do_nns_learn_the_same?.ipynb",
      "provenance": [],
      "collapsed_sections": [],
      "toc_visible": true,
      "include_colab_link": true
    },
    "kernelspec": {
      "name": "python3",
      "display_name": "Python 3"
    }
  },
  "cells": [
    {
      "cell_type": "markdown",
      "metadata": {
        "id": "view-in-github",
        "colab_type": "text"
      },
      "source": [
        "<a href=\"https://colab.research.google.com/github/phrasenmaeher/cka/blob/main/do_nns_learn_the_same%3F.ipynb\" target=\"_parent\"><img src=\"https://colab.research.google.com/assets/colab-badge.svg\" alt=\"Open In Colab\"/></a>"
      ]
    },
    {
      "cell_type": "markdown",
      "metadata": {
        "id": "YCKZc93RH8g_"
      },
      "source": [
        "# Do Wide and Deep Neural Networks Learn the Same Things?"
      ]
    },
    {
      "cell_type": "markdown",
      "metadata": {
        "id": "WFLBwIg1IBcj"
      },
      "source": [
        "Paper is: \n",
        "\n",
        "[Do Wide and Deep Networks Learn the Same Things? Uncovering How Neural Network Representations Vary with Width and Depth](https://arxiv.org/abs/2010.15327)\n",
        "\n",
        "by\n",
        "\n",
        "Nguyen, Thao and Raghu, Maithra and Kornblith, Simon"
      ]
    },
    {
      "cell_type": "markdown",
      "metadata": {
        "id": "m-rhGNAq25d-"
      },
      "source": [
        "### Preliminary code"
      ]
    },
    {
      "cell_type": "code",
      "metadata": {
        "id": "uZWVZrMsHjOl"
      },
      "source": [
        "import numpy as np\n",
        "import tqdm"
      ],
      "execution_count": null,
      "outputs": []
    },
    {
      "cell_type": "code",
      "metadata": {
        "id": "uMlhri6t98kW"
      },
      "source": [
        "def get_strategy(xla=0, fp16=0, no_cuda=0):\n",
        "  '''\n",
        "  Determines the strategy under which the network is trained.\n",
        "  \n",
        "  From https://github.com/huggingface/transformers/blob/8eb7f26d5d9ce42eb88be6f0150b22a41d76a93d/src/transformers/training_args_tf.py\n",
        "  \n",
        "  returns the strategy object\n",
        "  \n",
        "  '''\n",
        "  print(\"TensorFlow: setting up strategy\")\n",
        "\n",
        "  if xla:\n",
        "    tf.config.optimizer.set_jit(True)\n",
        "\n",
        "  gpus = tf.config.list_physical_devices(\"GPU\")\n",
        "    # Set to float16 at first\n",
        "  if fp16:\n",
        "    policy = tf.keras.mixed_precision.experimental.Policy(\"mixed_float16\")\n",
        "    tf.keras.mixed_precision.experimental.set_policy(policy)\n",
        "\n",
        "  if no_cuda:\n",
        "    strategy = tf.distribute.OneDeviceStrategy(device=\"/cpu:0\")\n",
        "  else:\n",
        "    try:\n",
        "      tpu = tf.distribute.cluster_resolver.TPUClusterResolver()\n",
        "    except ValueError:\n",
        "      tpu = None\n",
        "  \n",
        "    if tpu:\n",
        "    # Set to bfloat16 in case of TPU\n",
        "      if fp16:\n",
        "        policy = tf.keras.mixed_precision.experimental.Policy(\"mixed_bfloat16\")\n",
        "        tf.keras.mixed_precision.experimental.set_policy(policy)\n",
        "      tf.config.experimental_connect_to_cluster(tpu)\n",
        "      tf.tpu.experimental.initialize_tpu_system(tpu)\n",
        "    \n",
        "      strategy = tf.distribute.experimental.TPUStrategy(tpu)\n",
        "    \n",
        "    elif len(gpus) == 0:\n",
        "        strategy = tf.distribute.OneDeviceStrategy(device=\"/cpu:0\")\n",
        "    elif len(gpus) == 1:\n",
        "      strategy = tf.distribute.OneDeviceStrategy(device=\"/gpu:0\")\n",
        "    elif len(gpus) > 1:\n",
        "      # If you only want to use a specific subset of GPUs use `CUDA_VISIBLE_DEVICES=0`\n",
        "      strategy = tf.distribute.MirroredStrategy()\n",
        "    else:\n",
        "      raise ValueError(\"Cannot find the proper strategy! Please check your environment properties.\")\n",
        "\n",
        "  print(f\"Using strategy: {strategy}\")\n",
        "  return strategy"
      ],
      "execution_count": null,
      "outputs": []
    },
    {
      "cell_type": "markdown",
      "metadata": {
        "id": "qijP-cahHwBh"
      },
      "source": [
        "Let's first code the functions that implement all the equations we need."
      ]
    },
    {
      "cell_type": "markdown",
      "metadata": {
        "id": "DnsGzWzNiSMP"
      },
      "source": [
        "#### HSIC"
      ]
    },
    {
      "cell_type": "code",
      "metadata": {
        "id": "V_SDqYMZDcG9"
      },
      "source": [
        "def unbiased_HSIC(K, L):\n",
        "  '''Computes an unbiased estimator of HISC. This is equation (2) from the paper'''\n",
        "\n",
        "  #create the unit **vector** filled with ones\n",
        "  n = K.shape[0]\n",
        "  ones = np.ones(shape=(n))\n",
        "\n",
        "  #fill the diagonal entries with zeros \n",
        "  np.fill_diagonal(K, val=0) #this is now K_tilde \n",
        "  np.fill_diagonal(L, val=0) #this is now L_tilde\n",
        "\n",
        "  #first part in the square brackets\n",
        "  trace = np.trace(np.dot(K, L))\n",
        "\n",
        "  #middle part in the square brackets\n",
        "  nominator1 = np.dot(np.dot(ones.T, K), ones)\n",
        "  nominator2 = np.dot(np.dot(ones.T, L), ones)\n",
        "  denominator = (n-1)*(n-2)\n",
        "  middle = np.dot(nominator1, nominator2) / denominator\n",
        "  \n",
        "  \n",
        "  #third part in the square brackets\n",
        "  multiplier1 = 2/(n-2)\n",
        "  multiplier2 = np.dot(np.dot(ones.T, K), np.dot(L, ones))\n",
        "  last = multiplier1 * multiplier2\n",
        "\n",
        "  #complete equation\n",
        "  unbiased_hsic = 1/(n*(n-3)) * (trace + middle - last)\n",
        "\n",
        "  return unbiased_hsic\n"
      ],
      "execution_count": null,
      "outputs": []
    },
    {
      "cell_type": "markdown",
      "metadata": {
        "id": "Q8Vsn0mgiXo2"
      },
      "source": [
        "#### CKA"
      ]
    },
    {
      "cell_type": "code",
      "metadata": {
        "id": "FkXE8TJ-GQVs"
      },
      "source": [
        "def CKA(X, Y):\n",
        "  '''Computes the CKA of two matrices. This is equation (1) from the paper'''\n",
        "  \n",
        "  nominator = unbiased_HSIC(np.dot(X, X.T), np.dot(Y, Y.T))\n",
        "  denominator1 = unbiased_HSIC(np.dot(X, X.T), np.dot(X, X.T))\n",
        "  denominator2 = unbiased_HSIC(np.dot(Y, Y.T), np.dot(Y, Y.T))\n",
        "\n",
        "  cka = nominator/np.sqrt(denominator1*denominator2)\n",
        "\n",
        "  return cka\n"
      ],
      "execution_count": null,
      "outputs": []
    },
    {
      "cell_type": "markdown",
      "metadata": {
        "id": "QHcj9k3m2-sQ"
      },
      "source": [
        "## Creating and Training the networks"
      ]
    },
    {
      "cell_type": "markdown",
      "metadata": {
        "id": "i6mrMqOhiaMg"
      },
      "source": [
        "#### Imports"
      ]
    },
    {
      "cell_type": "code",
      "metadata": {
        "id": "_X5mMDM15iPj"
      },
      "source": [
        "import tensorflow as tf\n",
        "import matplotlib.pyplot as plt\n",
        "import numpy as np"
      ],
      "execution_count": null,
      "outputs": []
    },
    {
      "cell_type": "code",
      "metadata": {
        "id": "XWcf1gDNAVi_",
        "colab": {
          "base_uri": "https://localhost:8080/"
        },
        "outputId": "a90e4968-a9a0-4821-ecb0-48e1423a1241"
      },
      "source": [
        "cifar10 = tf.keras.datasets.cifar10\n",
        "\n",
        "(x_train, y_train), (x_test, y_test) = cifar10.load_data()\n",
        "x_train, x_test = x_train / 255.0, x_test / 255.0 #scale the data"
      ],
      "execution_count": null,
      "outputs": [
        {
          "output_type": "stream",
          "text": [
            "Downloading data from https://www.cs.toronto.edu/~kriz/cifar-10-python.tar.gz\n",
            "170500096/170498071 [==============================] - 2s 0us/step\n"
          ],
          "name": "stdout"
        }
      ]
    },
    {
      "cell_type": "markdown",
      "metadata": {
        "id": "LhvfgYJYRg7K"
      },
      "source": [
        "#### Setting up training strategy"
      ]
    },
    {
      "cell_type": "code",
      "metadata": {
        "id": "I9IvRx5WAWjP",
        "colab": {
          "base_uri": "https://localhost:8080/"
        },
        "outputId": "42e520de-dfcb-403e-a60e-7f02b3964733"
      },
      "source": [
        "strategy = get_strategy()"
      ],
      "execution_count": null,
      "outputs": [
        {
          "output_type": "stream",
          "text": [
            "TensorFlow: setting up strategy\n",
            "INFO:tensorflow:Initializing the TPU system: grpc://10.51.171.130:8470\n"
          ],
          "name": "stdout"
        },
        {
          "output_type": "stream",
          "text": [
            "INFO:tensorflow:Initializing the TPU system: grpc://10.51.171.130:8470\n"
          ],
          "name": "stderr"
        },
        {
          "output_type": "stream",
          "text": [
            "INFO:tensorflow:Clearing out eager caches\n"
          ],
          "name": "stdout"
        },
        {
          "output_type": "stream",
          "text": [
            "INFO:tensorflow:Clearing out eager caches\n"
          ],
          "name": "stderr"
        },
        {
          "output_type": "stream",
          "text": [
            "INFO:tensorflow:Finished initializing TPU system.\n"
          ],
          "name": "stdout"
        },
        {
          "output_type": "stream",
          "text": [
            "INFO:tensorflow:Finished initializing TPU system.\n",
            "WARNING:absl:`tf.distribute.experimental.TPUStrategy` is deprecated, please use  the non experimental symbol `tf.distribute.TPUStrategy` instead.\n"
          ],
          "name": "stderr"
        },
        {
          "output_type": "stream",
          "text": [
            "INFO:tensorflow:Found TPU system:\n"
          ],
          "name": "stdout"
        },
        {
          "output_type": "stream",
          "text": [
            "INFO:tensorflow:Found TPU system:\n"
          ],
          "name": "stderr"
        },
        {
          "output_type": "stream",
          "text": [
            "INFO:tensorflow:*** Num TPU Cores: 8\n"
          ],
          "name": "stdout"
        },
        {
          "output_type": "stream",
          "text": [
            "INFO:tensorflow:*** Num TPU Cores: 8\n"
          ],
          "name": "stderr"
        },
        {
          "output_type": "stream",
          "text": [
            "INFO:tensorflow:*** Num TPU Workers: 1\n"
          ],
          "name": "stdout"
        },
        {
          "output_type": "stream",
          "text": [
            "INFO:tensorflow:*** Num TPU Workers: 1\n"
          ],
          "name": "stderr"
        },
        {
          "output_type": "stream",
          "text": [
            "INFO:tensorflow:*** Num TPU Cores Per Worker: 8\n"
          ],
          "name": "stdout"
        },
        {
          "output_type": "stream",
          "text": [
            "INFO:tensorflow:*** Num TPU Cores Per Worker: 8\n"
          ],
          "name": "stderr"
        },
        {
          "output_type": "stream",
          "text": [
            "INFO:tensorflow:*** Available Device: _DeviceAttributes(/job:localhost/replica:0/task:0/device:CPU:0, CPU, 0, 0)\n"
          ],
          "name": "stdout"
        },
        {
          "output_type": "stream",
          "text": [
            "INFO:tensorflow:*** Available Device: _DeviceAttributes(/job:localhost/replica:0/task:0/device:CPU:0, CPU, 0, 0)\n"
          ],
          "name": "stderr"
        },
        {
          "output_type": "stream",
          "text": [
            "INFO:tensorflow:*** Available Device: _DeviceAttributes(/job:worker/replica:0/task:0/device:CPU:0, CPU, 0, 0)\n"
          ],
          "name": "stdout"
        },
        {
          "output_type": "stream",
          "text": [
            "INFO:tensorflow:*** Available Device: _DeviceAttributes(/job:worker/replica:0/task:0/device:CPU:0, CPU, 0, 0)\n"
          ],
          "name": "stderr"
        },
        {
          "output_type": "stream",
          "text": [
            "INFO:tensorflow:*** Available Device: _DeviceAttributes(/job:worker/replica:0/task:0/device:TPU:0, TPU, 0, 0)\n"
          ],
          "name": "stdout"
        },
        {
          "output_type": "stream",
          "text": [
            "INFO:tensorflow:*** Available Device: _DeviceAttributes(/job:worker/replica:0/task:0/device:TPU:0, TPU, 0, 0)\n"
          ],
          "name": "stderr"
        },
        {
          "output_type": "stream",
          "text": [
            "INFO:tensorflow:*** Available Device: _DeviceAttributes(/job:worker/replica:0/task:0/device:TPU:1, TPU, 0, 0)\n"
          ],
          "name": "stdout"
        },
        {
          "output_type": "stream",
          "text": [
            "INFO:tensorflow:*** Available Device: _DeviceAttributes(/job:worker/replica:0/task:0/device:TPU:1, TPU, 0, 0)\n"
          ],
          "name": "stderr"
        },
        {
          "output_type": "stream",
          "text": [
            "INFO:tensorflow:*** Available Device: _DeviceAttributes(/job:worker/replica:0/task:0/device:TPU:2, TPU, 0, 0)\n"
          ],
          "name": "stdout"
        },
        {
          "output_type": "stream",
          "text": [
            "INFO:tensorflow:*** Available Device: _DeviceAttributes(/job:worker/replica:0/task:0/device:TPU:2, TPU, 0, 0)\n"
          ],
          "name": "stderr"
        },
        {
          "output_type": "stream",
          "text": [
            "INFO:tensorflow:*** Available Device: _DeviceAttributes(/job:worker/replica:0/task:0/device:TPU:3, TPU, 0, 0)\n"
          ],
          "name": "stdout"
        },
        {
          "output_type": "stream",
          "text": [
            "INFO:tensorflow:*** Available Device: _DeviceAttributes(/job:worker/replica:0/task:0/device:TPU:3, TPU, 0, 0)\n"
          ],
          "name": "stderr"
        },
        {
          "output_type": "stream",
          "text": [
            "INFO:tensorflow:*** Available Device: _DeviceAttributes(/job:worker/replica:0/task:0/device:TPU:4, TPU, 0, 0)\n"
          ],
          "name": "stdout"
        },
        {
          "output_type": "stream",
          "text": [
            "INFO:tensorflow:*** Available Device: _DeviceAttributes(/job:worker/replica:0/task:0/device:TPU:4, TPU, 0, 0)\n"
          ],
          "name": "stderr"
        },
        {
          "output_type": "stream",
          "text": [
            "INFO:tensorflow:*** Available Device: _DeviceAttributes(/job:worker/replica:0/task:0/device:TPU:5, TPU, 0, 0)\n"
          ],
          "name": "stdout"
        },
        {
          "output_type": "stream",
          "text": [
            "INFO:tensorflow:*** Available Device: _DeviceAttributes(/job:worker/replica:0/task:0/device:TPU:5, TPU, 0, 0)\n"
          ],
          "name": "stderr"
        },
        {
          "output_type": "stream",
          "text": [
            "INFO:tensorflow:*** Available Device: _DeviceAttributes(/job:worker/replica:0/task:0/device:TPU:6, TPU, 0, 0)\n"
          ],
          "name": "stdout"
        },
        {
          "output_type": "stream",
          "text": [
            "INFO:tensorflow:*** Available Device: _DeviceAttributes(/job:worker/replica:0/task:0/device:TPU:6, TPU, 0, 0)\n"
          ],
          "name": "stderr"
        },
        {
          "output_type": "stream",
          "text": [
            "INFO:tensorflow:*** Available Device: _DeviceAttributes(/job:worker/replica:0/task:0/device:TPU:7, TPU, 0, 0)\n"
          ],
          "name": "stdout"
        },
        {
          "output_type": "stream",
          "text": [
            "INFO:tensorflow:*** Available Device: _DeviceAttributes(/job:worker/replica:0/task:0/device:TPU:7, TPU, 0, 0)\n"
          ],
          "name": "stderr"
        },
        {
          "output_type": "stream",
          "text": [
            "INFO:tensorflow:*** Available Device: _DeviceAttributes(/job:worker/replica:0/task:0/device:TPU_SYSTEM:0, TPU_SYSTEM, 0, 0)\n"
          ],
          "name": "stdout"
        },
        {
          "output_type": "stream",
          "text": [
            "INFO:tensorflow:*** Available Device: _DeviceAttributes(/job:worker/replica:0/task:0/device:TPU_SYSTEM:0, TPU_SYSTEM, 0, 0)\n"
          ],
          "name": "stderr"
        },
        {
          "output_type": "stream",
          "text": [
            "INFO:tensorflow:*** Available Device: _DeviceAttributes(/job:worker/replica:0/task:0/device:XLA_CPU:0, XLA_CPU, 0, 0)\n"
          ],
          "name": "stdout"
        },
        {
          "output_type": "stream",
          "text": [
            "INFO:tensorflow:*** Available Device: _DeviceAttributes(/job:worker/replica:0/task:0/device:XLA_CPU:0, XLA_CPU, 0, 0)\n"
          ],
          "name": "stderr"
        },
        {
          "output_type": "stream",
          "text": [
            "Using strategy: <tensorflow.python.distribute.tpu_strategy.TPUStrategy object at 0x7f74efa22d50>\n"
          ],
          "name": "stdout"
        }
      ]
    },
    {
      "cell_type": "markdown",
      "metadata": {
        "id": "S9ff81RwRjy7"
      },
      "source": [
        "#### Helper functions to create ResNets"
      ]
    },
    {
      "cell_type": "code",
      "metadata": {
        "id": "16ERBC6cNrRV"
      },
      "source": [
        "def create_resnet50():\n",
        "  \n",
        "  resnet_base = tf.keras.applications.ResNet50(\n",
        "    input_shape=(32,32,3),\n",
        "    weights='imagenet',\n",
        "    pooling='avg',\n",
        "    include_top=False)\n",
        "  \n",
        "  output = tf.keras.layers.Dense(10, activation=\"softmax\")(resnet_base.output)\n",
        "\n",
        "  model = tf.keras.Model(inputs=[resnet_base.input], outputs=[output])\n",
        "\n",
        "  return model"
      ],
      "execution_count": null,
      "outputs": []
    },
    {
      "cell_type": "code",
      "metadata": {
        "id": "RGkIuquaQk68"
      },
      "source": [
        "def create_resnet101():\n",
        "  \n",
        "  resnet_base = tf.keras.applications.ResNet101(\n",
        "    input_shape=(32,32,3),\n",
        "    weights='imagenet',\n",
        "    pooling='avg',\n",
        "    include_top=False)\n",
        "  \n",
        "  output = tf.keras.layers.Dense(10, activation=\"softmax\")(resnet_base.output)\n",
        "\n",
        "  model = tf.keras.Model(inputs=[resnet_base.input], outputs=[output])\n",
        "\n",
        "  return model"
      ],
      "execution_count": null,
      "outputs": []
    },
    {
      "cell_type": "code",
      "metadata": {
        "id": "OktmNiIvQpg9"
      },
      "source": [
        "def create_resnet152():\n",
        "  \n",
        "  resnet_base = tf.keras.applications.ResNet152(\n",
        "    input_shape=(32,32,3),\n",
        "    weights='imagenet',\n",
        "    pooling='avg',\n",
        "    include_top=False)\n",
        "  \n",
        "  output = tf.keras.layers.Dense(10, activation=\"softmax\")(resnet_base.output)\n",
        "\n",
        "  model = tf.keras.Model(inputs=[resnet_base.input], outputs=[output])\n",
        "\n",
        "  return model"
      ],
      "execution_count": null,
      "outputs": []
    },
    {
      "cell_type": "markdown",
      "metadata": {
        "id": "-H90AKFvRneS"
      },
      "source": [
        "### Train ResNets"
      ]
    },
    {
      "cell_type": "markdown",
      "metadata": {
        "id": "2xWJeh2xQ9S3"
      },
      "source": [
        "Train a ResNet50"
      ]
    },
    {
      "cell_type": "code",
      "metadata": {
        "id": "aHW5qRUlP_Km",
        "colab": {
          "base_uri": "https://localhost:8080/"
        },
        "outputId": "f2c7cab6-7645-4ef7-8284-9ac5efcb0a34"
      },
      "source": [
        "with strategy.scope():\n",
        "  resnet50 = create_resnet50()\n",
        "  \n",
        "  resnet50.compile(optimizer='adam',\n",
        "              loss=tf.keras.losses.SparseCategoricalCrossentropy(),\n",
        "              metrics=['accuracy'])"
      ],
      "execution_count": null,
      "outputs": [
        {
          "output_type": "stream",
          "text": [
            "Downloading data from https://storage.googleapis.com/tensorflow/keras-applications/resnet/resnet50_weights_tf_dim_ordering_tf_kernels_notop.h5\n",
            "94773248/94765736 [==============================] - 1s 0us/step\n"
          ],
          "name": "stdout"
        }
      ]
    },
    {
      "cell_type": "code",
      "metadata": {
        "colab": {
          "base_uri": "https://localhost:8080/"
        },
        "id": "lqj6ZuvIQF0I",
        "outputId": "5b7df38c-604b-455b-a174-11292da07d9a"
      },
      "source": [
        "resnet50.fit(x_train, y_train, epochs=10, batch_size=256)"
      ],
      "execution_count": null,
      "outputs": [
        {
          "output_type": "stream",
          "text": [
            "Epoch 1/10\n",
            "196/196 [==============================] - 72s 144ms/step - loss: 1.6225 - accuracy: 0.4929\n",
            "Epoch 2/10\n",
            "196/196 [==============================] - 8s 41ms/step - loss: 0.7771 - accuracy: 0.7391\n",
            "Epoch 3/10\n",
            "196/196 [==============================] - 8s 41ms/step - loss: 0.6130 - accuracy: 0.7960\n",
            "Epoch 4/10\n",
            "196/196 [==============================] - 8s 41ms/step - loss: 0.7455 - accuracy: 0.7654\n",
            "Epoch 5/10\n",
            "196/196 [==============================] - 8s 41ms/step - loss: 0.5964 - accuracy: 0.8039\n",
            "Epoch 6/10\n",
            "196/196 [==============================] - 8s 41ms/step - loss: 0.4124 - accuracy: 0.8645\n",
            "Epoch 7/10\n",
            "196/196 [==============================] - 8s 41ms/step - loss: 0.3378 - accuracy: 0.8891\n",
            "Epoch 8/10\n",
            "196/196 [==============================] - 8s 41ms/step - loss: 0.6822 - accuracy: 0.7841\n",
            "Epoch 9/10\n",
            "196/196 [==============================] - 8s 40ms/step - loss: 1.2404 - accuracy: 0.6123\n",
            "Epoch 10/10\n",
            "196/196 [==============================] - 8s 41ms/step - loss: 0.6551 - accuracy: 0.7798\n"
          ],
          "name": "stdout"
        },
        {
          "output_type": "execute_result",
          "data": {
            "text/plain": [
              "<tensorflow.python.keras.callbacks.History at 0x7f747e268450>"
            ]
          },
          "metadata": {
            "tags": []
          },
          "execution_count": 12
        }
      ]
    },
    {
      "cell_type": "markdown",
      "metadata": {
        "id": "Pbla4Q-tQ_gu"
      },
      "source": [
        "Train a Resnet101"
      ]
    },
    {
      "cell_type": "code",
      "metadata": {
        "colab": {
          "base_uri": "https://localhost:8080/"
        },
        "id": "W7BhjwftQ1Qc",
        "outputId": "f84af321-93b8-4648-9d65-df0032c2932c"
      },
      "source": [
        "with strategy.scope():\n",
        "  resnet101 = create_resnet101()\n",
        "  resnet101.compile(optimizer='adam',\n",
        "              loss=tf.keras.losses.SparseCategoricalCrossentropy(),\n",
        "              metrics=['accuracy'])\n",
        "\n"
      ],
      "execution_count": null,
      "outputs": [
        {
          "output_type": "stream",
          "text": [
            "Downloading data from https://storage.googleapis.com/tensorflow/keras-applications/resnet/resnet101_weights_tf_dim_ordering_tf_kernels_notop.h5\n",
            "171450368/171446536 [==============================] - 1s 0us/step\n"
          ],
          "name": "stdout"
        }
      ]
    },
    {
      "cell_type": "code",
      "metadata": {
        "colab": {
          "base_uri": "https://localhost:8080/"
        },
        "id": "b3Cwf9p7RI34",
        "outputId": "0b5a401f-8413-455a-8a9d-b024e3deeb6b"
      },
      "source": [
        "resnet101.fit(x_train, y_train, epochs=10, batch_size=256)"
      ],
      "execution_count": null,
      "outputs": [
        {
          "output_type": "stream",
          "text": [
            "Epoch 1/10\n",
            "196/196 [==============================] - 131s 251ms/step - loss: 1.6982 - accuracy: 0.4614\n",
            "Epoch 2/10\n",
            "196/196 [==============================] - 13s 69ms/step - loss: 1.2706 - accuracy: 0.5783\n",
            "Epoch 3/10\n",
            "196/196 [==============================] - 13s 69ms/step - loss: 1.3349 - accuracy: 0.5357\n",
            "Epoch 4/10\n",
            "196/196 [==============================] - 13s 69ms/step - loss: 1.1582 - accuracy: 0.6045\n",
            "Epoch 5/10\n",
            "196/196 [==============================] - 14s 69ms/step - loss: 0.9840 - accuracy: 0.6671\n",
            "Epoch 6/10\n",
            "196/196 [==============================] - 14s 71ms/step - loss: 1.1435 - accuracy: 0.6138\n",
            "Epoch 7/10\n",
            "196/196 [==============================] - 14s 70ms/step - loss: 1.0196 - accuracy: 0.6527\n",
            "Epoch 8/10\n",
            "196/196 [==============================] - 14s 69ms/step - loss: 0.9989 - accuracy: 0.6670\n",
            "Epoch 9/10\n",
            "196/196 [==============================] - 14s 69ms/step - loss: 0.9116 - accuracy: 0.6934\n",
            "Epoch 10/10\n",
            "196/196 [==============================] - 14s 70ms/step - loss: 0.7252 - accuracy: 0.7547\n"
          ],
          "name": "stdout"
        },
        {
          "output_type": "execute_result",
          "data": {
            "text/plain": [
              "<tensorflow.python.keras.callbacks.History at 0x7f74791269d0>"
            ]
          },
          "metadata": {
            "tags": []
          },
          "execution_count": 14
        }
      ]
    },
    {
      "cell_type": "markdown",
      "metadata": {
        "id": "5IRbyB2aRLXz"
      },
      "source": [
        "Train a ResNet512\n"
      ]
    },
    {
      "cell_type": "code",
      "metadata": {
        "id": "xEOCOF7uROca",
        "colab": {
          "base_uri": "https://localhost:8080/"
        },
        "outputId": "8f54c154-1d59-426d-f2d6-409fdded5043"
      },
      "source": [
        "with strategy.scope():\n",
        "  resnet152 = create_resnet152()\n",
        "  resnet152.compile(optimizer='adam',\n",
        "              loss=tf.keras.losses.SparseCategoricalCrossentropy(),\n",
        "              metrics=['accuracy'])"
      ],
      "execution_count": null,
      "outputs": [
        {
          "output_type": "stream",
          "text": [
            "Downloading data from https://storage.googleapis.com/tensorflow/keras-applications/resnet/resnet152_weights_tf_dim_ordering_tf_kernels_notop.h5\n",
            "234700800/234698864 [==============================] - 3s 0us/step\n"
          ],
          "name": "stdout"
        }
      ]
    },
    {
      "cell_type": "code",
      "metadata": {
        "id": "XZVhC3faRSAf",
        "colab": {
          "base_uri": "https://localhost:8080/"
        },
        "outputId": "c9373696-dc79-4cc8-b280-04e53e7c7fed"
      },
      "source": [
        "resnet152.fit(x_train, y_train, epochs=10, batch_size=256)"
      ],
      "execution_count": null,
      "outputs": [
        {
          "output_type": "stream",
          "text": [
            "Epoch 1/10\n",
            "196/196 [==============================] - 194s 372ms/step - loss: 1.8627 - accuracy: 0.4147\n",
            "Epoch 2/10\n",
            "196/196 [==============================] - 18s 94ms/step - loss: 1.0547 - accuracy: 0.6413\n",
            "Epoch 3/10\n",
            "196/196 [==============================] - 19s 95ms/step - loss: 0.8756 - accuracy: 0.7076\n",
            "Epoch 4/10\n",
            "196/196 [==============================] - 19s 95ms/step - loss: 1.4581 - accuracy: 0.5241\n",
            "Epoch 5/10\n",
            "196/196 [==============================] - 19s 95ms/step - loss: 1.0416 - accuracy: 0.6434\n",
            "Epoch 6/10\n",
            "196/196 [==============================] - 19s 95ms/step - loss: 0.9033 - accuracy: 0.6945\n",
            "Epoch 7/10\n",
            "196/196 [==============================] - 19s 95ms/step - loss: 1.2494 - accuracy: 0.5879\n",
            "Epoch 8/10\n",
            "196/196 [==============================] - 19s 95ms/step - loss: 1.2604 - accuracy: 0.5762\n",
            "Epoch 9/10\n",
            "196/196 [==============================] - 19s 95ms/step - loss: 1.5639 - accuracy: 0.4546\n",
            "Epoch 10/10\n",
            "196/196 [==============================] - 19s 95ms/step - loss: 1.3513 - accuracy: 0.5350\n"
          ],
          "name": "stdout"
        },
        {
          "output_type": "execute_result",
          "data": {
            "text/plain": [
              "<tensorflow.python.keras.callbacks.History at 0x7f7471fd3b50>"
            ]
          },
          "metadata": {
            "tags": []
          },
          "execution_count": 18
        }
      ]
    },
    {
      "cell_type": "markdown",
      "metadata": {
        "id": "1yTN4l-9XBBZ"
      },
      "source": [
        "## Activation comparison"
      ]
    },
    {
      "cell_type": "markdown",
      "metadata": {
        "id": "19E5SQloR3UH"
      },
      "source": [
        "Function that calculates the CKA score between two matrices. 'Unrolls' the matrices beforehand"
      ]
    },
    {
      "cell_type": "code",
      "metadata": {
        "id": "cYIHhWBkdXHz"
      },
      "source": [
        "def calculate_CKA_for_two_matrices(activationA, activationB):\n",
        "  '''Takes two activations A and B and computes the linear CKA to measure their similarity'''\n",
        "\n",
        "  #unfold the activations, that is make a (n, h*w*c) representation\n",
        "  shape = activationA.shape\n",
        "  activationA = np.reshape(activationA, newshape=(shape[0], np.prod(shape[1:])))\n",
        "\n",
        "  shape = activationB.shape\n",
        "  activationB = np.reshape(activationB, newshape=(shape[0], np.prod(shape[1:])))\n",
        "\n",
        "  #calculate the CKA score\n",
        "  cka_score = CKA(activationA, activationB)\n",
        "\n",
        "  del activationA\n",
        "  del activationB\n",
        "\n",
        "  return cka_score"
      ],
      "execution_count": null,
      "outputs": []
    },
    {
      "cell_type": "markdown",
      "metadata": {
        "id": "GOke3rnsRw14"
      },
      "source": [
        "Function that builds a function that returns all (intermediate) layer outputs for a given input"
      ]
    },
    {
      "cell_type": "code",
      "metadata": {
        "id": "5BtAJbaBLyXz"
      },
      "source": [
        "def get_all_layer_outputs_fn(model):\n",
        "  '''Builds and returns function that returns the output of every (intermediate) layer'''\n",
        "\n",
        "  return tf.keras.backend.function([model.layers[0].input],\n",
        "                                  [l.output for l in model.layers[1:]])\n"
      ],
      "execution_count": null,
      "outputs": []
    },
    {
      "cell_type": "code",
      "metadata": {
        "id": "3i88NndOXItg"
      },
      "source": [
        "def compare_activations(modelA, modelB, data_batch):\n",
        "  '''\n",
        "  Calculate a pairwise comparison of hidden representations and return a matrix\n",
        "  '''\n",
        " \n",
        "  #get function to get the output of every intermediate layer, for modelA and modelB\n",
        "  intermediate_outputs_A = get_all_layer_outputs_fn(modelA)(data_batch)\n",
        "  intermediate_outputs_B = get_all_layer_outputs_fn(modelB)(data_batch)\n",
        "\n",
        "  #create a placeholder array\n",
        "  result_array = np.zeros(shape=(len(intermediate_outputs_A), len(intermediate_outputs_B)))\n",
        "\n",
        "  \n",
        "  i = 0\n",
        "  for outputA in tqdm.tqdm_notebook(intermediate_outputs_A):\n",
        "    j = 0\n",
        "    for outputB in tqdm.tqdm_notebook(intermediate_outputs_B):\n",
        "      cka_score = calculate_CKA_for_two_matrices(outputA, outputB)\n",
        "      result_array[i, j] = cka_score\n",
        "      j+=1\n",
        "    i+= 1\n",
        "\n",
        "  return result_array"
      ],
      "execution_count": null,
      "outputs": []
    },
    {
      "cell_type": "code",
      "metadata": {
        "id": "sS51fHSc0hVa"
      },
      "source": [
        "sim = compare_activations(resnet50, resnet101, x_train[:256])"
      ],
      "execution_count": null,
      "outputs": []
    },
    {
      "cell_type": "markdown",
      "metadata": {
        "id": "7gyyIfb77iJW"
      },
      "source": [
        "# Further code"
      ]
    },
    {
      "cell_type": "code",
      "metadata": {
        "id": "5xBj574_UltL"
      },
      "source": [
        "def compare_activations2(intermediate_outputs_A, intermediate_outputs_B):\n",
        "  #create a placeholder array\n",
        "  result_array = np.zeros(shape=(len(intermediate_outputs_A), len(intermediate_outputs_B)))\n",
        "\n",
        "  \n",
        "  i = 0\n",
        "  for outputA in tqdm.tqdm_notebook(intermediate_outputs_A):\n",
        "    j = 0\n",
        "    for outputB in tqdm.tqdm_notebook(intermediate_outputs_B):\n",
        "      cka_score = calculate_CKA_for_two_matrices(outputA, outputB)\n",
        "      result_array[i, j] = cka_score\n",
        "      j+=1\n",
        "    i+= 1\n",
        "\n",
        "  return result_array\n"
      ],
      "execution_count": null,
      "outputs": []
    },
    {
      "cell_type": "code",
      "metadata": {
        "id": "hXdfT-jIVCoo"
      },
      "source": [
        "import pickle"
      ],
      "execution_count": null,
      "outputs": []
    },
    {
      "cell_type": "code",
      "metadata": {
        "id": "2yBun94wTDs-"
      },
      "source": [
        "with open(\"/content/drive/MyDrive/activ_comparison/resnet50\", \"rb\") as rp:\n",
        "  resnet50 = pickle.load(rp)"
      ],
      "execution_count": null,
      "outputs": []
    },
    {
      "cell_type": "code",
      "metadata": {
        "id": "adHTiIy4VFYJ"
      },
      "source": [
        "with open(\"/content/drive/MyDrive/activ_comparison/resnet101\", \"rb\") as rp:\n",
        "  resnet101 = pickle.load(rp)"
      ],
      "execution_count": null,
      "outputs": []
    },
    {
      "cell_type": "code",
      "metadata": {
        "id": "rcdCGZ3tVH00"
      },
      "source": [
        "with open(\"/content/drive/MyDrive/activ_comparison/resnet152\", \"rb\") as rp:\n",
        "  resnet152 = pickle.load(rp)"
      ],
      "execution_count": null,
      "outputs": []
    },
    {
      "cell_type": "code",
      "metadata": {
        "id": "9ToxGL0JnTzX"
      },
      "source": [
        "sim = compare_activations2(resnet50, resnet101)\n",
        "plt.figure(figsize=(30, 15), dpi=200)\n",
        "axes = plt.imshow(sim, cmap='magma', vmin=0.0,vmax=1.0)\n",
        "axes.axes.invert_yaxis()\n",
        "plt.savefig(\"/content/drive/MyDrive/activ_comparison/r50_r101.png\", dpi=400)"
      ],
      "execution_count": null,
      "outputs": []
    },
    {
      "cell_type": "code",
      "metadata": {
        "id": "yjybnn0MVaE1"
      },
      "source": [
        "sim = compare_activations2(resnet50, resnet152)\n",
        "plt.figure(figsize=(30, 15), dpi=200)\n",
        "axes = plt.imshow(sim, cmap='magma', vmin=0.0,vmax=1.0)\n",
        "axes.axes.invert_yaxis()\n",
        "plt.savefig(\"/content/drive/MyDrive/activ_comparison/r50_r152.png\", dpi=400)"
      ],
      "execution_count": null,
      "outputs": []
    },
    {
      "cell_type": "code",
      "metadata": {
        "id": "MSyNNsi9VhKg"
      },
      "source": [
        "sim = compare_activations2(resnet101, resnet152)\n",
        "plt.figure(figsize=(30, 15), dpi=200)\n",
        "axes = plt.imshow(sim, cmap='magma', vmin=0.0,vmax=1.0)\n",
        "axes.axes.invert_yaxis()\n",
        "plt.savefig(\"/content/drive/MyDrive/activ_comparison/r101_r152.png\", dpi=400)"
      ],
      "execution_count": null,
      "outputs": []
    },
    {
      "cell_type": "code",
      "metadata": {
        "id": "rt-MqA5oVrmL"
      },
      "source": [
        "sim = compare_activations2(resnet50, resnet50)\n",
        "plt.figure(figsize=(30, 15), dpi=200)\n",
        "axes = plt.imshow(sim, cmap='magma', vmin=0.0,vmax=1.0)\n",
        "axes.axes.invert_yaxis()\n",
        "plt.savefig(\"/content/drive/MyDrive/activ_comparison/r50_r50.png\", dpi=400)"
      ],
      "execution_count": null,
      "outputs": []
    },
    {
      "cell_type": "code",
      "metadata": {
        "id": "lcD-85i6Vu5w"
      },
      "source": [
        "sim = compare_activations2(resnet101, resnet101)\n",
        "plt.figure(figsize=(30, 15), dpi=200)\n",
        "axes = plt.imshow(sim, cmap='magma', vmin=0.0,vmax=1.0)\n",
        "axes.axes.invert_yaxis()\n",
        "plt.savefig(\"/content/drive/MyDrive/activ_comparison/r101_r101.png\", dpi=400)"
      ],
      "execution_count": null,
      "outputs": []
    },
    {
      "cell_type": "code",
      "metadata": {
        "id": "xV-gJG5GVxUJ"
      },
      "source": [
        "sim = compare_activations2(resnet152, resnet152)\n",
        "plt.figure(figsize=(30, 15), dpi=200)\n",
        "axes = plt.imshow(sim, cmap='magma', vmin=0.0,vmax=1.0)\n",
        "axes.axes.invert_yaxis()\n",
        "plt.savefig(\"/content/drive/MyDrive/activ_comparison/r152_r152.png\", dpi=400)"
      ],
      "execution_count": null,
      "outputs": []
    },
    {
      "cell_type": "code",
      "metadata": {
        "id": "zqSs8hcjV09p"
      },
      "source": [
        ""
      ],
      "execution_count": null,
      "outputs": []
    }
  ]
}